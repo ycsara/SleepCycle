{
 "cells": [
  {
   "cell_type": "code",
   "execution_count": 14,
   "metadata": {},
   "outputs": [],
   "source": [
    "import pandas as pd\n",
    "import numpy as np"
   ]
  },
  {
   "cell_type": "code",
   "execution_count": 15,
   "metadata": {},
   "outputs": [],
   "source": [
    "sleep = pd.read_csv('sleep_cycle_productivity.csv', sep=',')"
   ]
  },
  {
   "cell_type": "code",
   "execution_count": 16,
   "metadata": {},
   "outputs": [
    {
     "data": {
      "text/html": [
       "<div>\n",
       "<style scoped>\n",
       "    .dataframe tbody tr th:only-of-type {\n",
       "        vertical-align: middle;\n",
       "    }\n",
       "\n",
       "    .dataframe tbody tr th {\n",
       "        vertical-align: top;\n",
       "    }\n",
       "\n",
       "    .dataframe thead th {\n",
       "        text-align: right;\n",
       "    }\n",
       "</style>\n",
       "<table border=\"1\" class=\"dataframe\">\n",
       "  <thead>\n",
       "    <tr style=\"text-align: right;\">\n",
       "      <th></th>\n",
       "      <th>Date</th>\n",
       "      <th>Person_ID</th>\n",
       "      <th>Age</th>\n",
       "      <th>Gender</th>\n",
       "      <th>Sleep Start Time</th>\n",
       "      <th>Sleep End Time</th>\n",
       "      <th>Total Sleep Hours</th>\n",
       "      <th>Sleep Quality</th>\n",
       "      <th>Exercise (mins/day)</th>\n",
       "      <th>Caffeine Intake (mg)</th>\n",
       "      <th>Screen Time Before Bed (mins)</th>\n",
       "      <th>Work Hours (hrs/day)</th>\n",
       "      <th>Productivity Score</th>\n",
       "      <th>Mood Score</th>\n",
       "      <th>Stress Level</th>\n",
       "    </tr>\n",
       "  </thead>\n",
       "  <tbody>\n",
       "    <tr>\n",
       "      <th>0</th>\n",
       "      <td>2024-04-12</td>\n",
       "      <td>1860</td>\n",
       "      <td>32</td>\n",
       "      <td>Other</td>\n",
       "      <td>23.33</td>\n",
       "      <td>4.61</td>\n",
       "      <td>5.28</td>\n",
       "      <td>3</td>\n",
       "      <td>86</td>\n",
       "      <td>87</td>\n",
       "      <td>116</td>\n",
       "      <td>8.808920</td>\n",
       "      <td>8</td>\n",
       "      <td>3</td>\n",
       "      <td>6</td>\n",
       "    </tr>\n",
       "    <tr>\n",
       "      <th>1</th>\n",
       "      <td>2024-11-04</td>\n",
       "      <td>1769</td>\n",
       "      <td>41</td>\n",
       "      <td>Female</td>\n",
       "      <td>21.02</td>\n",
       "      <td>2.43</td>\n",
       "      <td>5.41</td>\n",
       "      <td>5</td>\n",
       "      <td>32</td>\n",
       "      <td>21</td>\n",
       "      <td>88</td>\n",
       "      <td>6.329833</td>\n",
       "      <td>10</td>\n",
       "      <td>3</td>\n",
       "      <td>7</td>\n",
       "    </tr>\n",
       "    <tr>\n",
       "      <th>2</th>\n",
       "      <td>2024-08-31</td>\n",
       "      <td>2528</td>\n",
       "      <td>20</td>\n",
       "      <td>Male</td>\n",
       "      <td>22.10</td>\n",
       "      <td>3.45</td>\n",
       "      <td>5.35</td>\n",
       "      <td>7</td>\n",
       "      <td>17</td>\n",
       "      <td>88</td>\n",
       "      <td>59</td>\n",
       "      <td>8.506306</td>\n",
       "      <td>10</td>\n",
       "      <td>9</td>\n",
       "      <td>10</td>\n",
       "    </tr>\n",
       "    <tr>\n",
       "      <th>3</th>\n",
       "      <td>2024-02-22</td>\n",
       "      <td>8041</td>\n",
       "      <td>37</td>\n",
       "      <td>Other</td>\n",
       "      <td>23.10</td>\n",
       "      <td>6.65</td>\n",
       "      <td>7.55</td>\n",
       "      <td>8</td>\n",
       "      <td>46</td>\n",
       "      <td>34</td>\n",
       "      <td>80</td>\n",
       "      <td>6.070240</td>\n",
       "      <td>8</td>\n",
       "      <td>4</td>\n",
       "      <td>2</td>\n",
       "    </tr>\n",
       "    <tr>\n",
       "      <th>4</th>\n",
       "      <td>2024-02-23</td>\n",
       "      <td>4843</td>\n",
       "      <td>46</td>\n",
       "      <td>Other</td>\n",
       "      <td>21.42</td>\n",
       "      <td>4.17</td>\n",
       "      <td>6.75</td>\n",
       "      <td>10</td>\n",
       "      <td>61</td>\n",
       "      <td>269</td>\n",
       "      <td>94</td>\n",
       "      <td>11.374994</td>\n",
       "      <td>8</td>\n",
       "      <td>7</td>\n",
       "      <td>9</td>\n",
       "    </tr>\n",
       "  </tbody>\n",
       "</table>\n",
       "</div>"
      ],
      "text/plain": [
       "         Date  Person_ID  Age  Gender  Sleep Start Time  Sleep End Time  \\\n",
       "0  2024-04-12       1860   32   Other             23.33            4.61   \n",
       "1  2024-11-04       1769   41  Female             21.02            2.43   \n",
       "2  2024-08-31       2528   20    Male             22.10            3.45   \n",
       "3  2024-02-22       8041   37   Other             23.10            6.65   \n",
       "4  2024-02-23       4843   46   Other             21.42            4.17   \n",
       "\n",
       "   Total Sleep Hours  Sleep Quality  Exercise (mins/day)  \\\n",
       "0               5.28              3                   86   \n",
       "1               5.41              5                   32   \n",
       "2               5.35              7                   17   \n",
       "3               7.55              8                   46   \n",
       "4               6.75             10                   61   \n",
       "\n",
       "   Caffeine Intake (mg)  Screen Time Before Bed (mins)  Work Hours (hrs/day)  \\\n",
       "0                    87                            116              8.808920   \n",
       "1                    21                             88              6.329833   \n",
       "2                    88                             59              8.506306   \n",
       "3                    34                             80              6.070240   \n",
       "4                   269                             94             11.374994   \n",
       "\n",
       "   Productivity Score  Mood Score  Stress Level  \n",
       "0                   8           3             6  \n",
       "1                  10           3             7  \n",
       "2                  10           9            10  \n",
       "3                   8           4             2  \n",
       "4                   8           7             9  "
      ]
     },
     "execution_count": 16,
     "metadata": {},
     "output_type": "execute_result"
    }
   ],
   "source": [
    "sleep.head()"
   ]
  },
  {
   "cell_type": "markdown",
   "metadata": {},
   "source": [
    "The sleep dataframe shows data on sleep cycle productivity.  \n",
    "  \n",
    "According to the documentation:  \n",
    "  \n",
    "`'Date'` — The date of data collection  \n",
    "`'Person_ID'` — Unique identifier for each individual  \n",
    "`'Age'` — Age of the person (18-60 years)  \n",
    "`'Gender'` — Male, Female, or Other  \n",
    "`'Sleep Start Time'` — Time when the person went to bed (in 24-hour format)  \n",
    "`'Sleep End Time'` — Time when the person woke up (in 24-hour format)  \n",
    "`'Total Sleep Hours'` — Total duration of sleep (in hours)  \n",
    "`'Sleep Quality'` — Self-reported sleep quality (scale: 1-10)  \n",
    "`'Exercise (mins/day)'` — Minutes spent exercising per day  \n",
    "`'Caffeine Intake (mg)'` — Amount of caffeine consumed in mg  \n",
    "`'Screen Time Before Bed (mins)'` — Time spent using screens before sleeping  \n",
    "`'Work Hours (hrs/day) '` — Total working hours in a day  \n",
    "`'Productivity Score'` — Self-reported productivity score (scale: 1-10)  \n",
    "`'Mood Score'` — Self-reported mood score (scale: 1-10)  \n",
    "`'Stress Level'` — Self-reported stress level (scale: 1-10)  "
   ]
  },
  {
   "cell_type": "code",
   "execution_count": 17,
   "metadata": {},
   "outputs": [
    {
     "data": {
      "text/plain": [
       "Date                             0\n",
       "Person_ID                        0\n",
       "Age                              0\n",
       "Gender                           0\n",
       "Sleep Start Time                 0\n",
       "Sleep End Time                   0\n",
       "Total Sleep Hours                0\n",
       "Sleep Quality                    0\n",
       "Exercise (mins/day)              0\n",
       "Caffeine Intake (mg)             0\n",
       "Screen Time Before Bed (mins)    0\n",
       "Work Hours (hrs/day)             0\n",
       "Productivity Score               0\n",
       "Mood Score                       0\n",
       "Stress Level                     0\n",
       "dtype: int64"
      ]
     },
     "execution_count": 17,
     "metadata": {},
     "output_type": "execute_result"
    }
   ],
   "source": [
    "sleep.isna().sum()"
   ]
  },
  {
   "cell_type": "code",
   "execution_count": 18,
   "metadata": {},
   "outputs": [
    {
     "data": {
      "text/plain": [
       "0"
      ]
     },
     "execution_count": 18,
     "metadata": {},
     "output_type": "execute_result"
    }
   ],
   "source": [
    "sleep.duplicated().sum()"
   ]
  },
  {
   "cell_type": "code",
   "execution_count": 19,
   "metadata": {},
   "outputs": [
    {
     "name": "stdout",
     "output_type": "stream",
     "text": [
      "<class 'pandas.core.frame.DataFrame'>\n",
      "RangeIndex: 5000 entries, 0 to 4999\n",
      "Data columns (total 15 columns):\n",
      " #   Column                         Non-Null Count  Dtype  \n",
      "---  ------                         --------------  -----  \n",
      " 0   Date                           5000 non-null   object \n",
      " 1   Person_ID                      5000 non-null   int64  \n",
      " 2   Age                            5000 non-null   int64  \n",
      " 3   Gender                         5000 non-null   object \n",
      " 4   Sleep Start Time               5000 non-null   float64\n",
      " 5   Sleep End Time                 5000 non-null   float64\n",
      " 6   Total Sleep Hours              5000 non-null   float64\n",
      " 7   Sleep Quality                  5000 non-null   int64  \n",
      " 8   Exercise (mins/day)            5000 non-null   int64  \n",
      " 9   Caffeine Intake (mg)           5000 non-null   int64  \n",
      " 10  Screen Time Before Bed (mins)  5000 non-null   int64  \n",
      " 11  Work Hours (hrs/day)           5000 non-null   float64\n",
      " 12  Productivity Score             5000 non-null   int64  \n",
      " 13  Mood Score                     5000 non-null   int64  \n",
      " 14  Stress Level                   5000 non-null   int64  \n",
      "dtypes: float64(4), int64(9), object(2)\n",
      "memory usage: 586.1+ KB\n"
     ]
    }
   ],
   "source": [
    "sleep.info()"
   ]
  },
  {
   "cell_type": "code",
   "execution_count": 20,
   "metadata": {},
   "outputs": [],
   "source": [
    "sleep['Date'] = pd.to_datetime(sleep['Date'])"
   ]
  },
  {
   "cell_type": "code",
   "execution_count": null,
   "metadata": {},
   "outputs": [],
   "source": [
    "score = ['Productivity Score', 'Mood Score', 'Stress Level']\n"
   ]
  }
 ],
 "metadata": {
  "kernelspec": {
   "display_name": "base",
   "language": "python",
   "name": "python3"
  },
  "language_info": {
   "codemirror_mode": {
    "name": "ipython",
    "version": 3
   },
   "file_extension": ".py",
   "mimetype": "text/x-python",
   "name": "python",
   "nbconvert_exporter": "python",
   "pygments_lexer": "ipython3",
   "version": "3.12.7"
  }
 },
 "nbformat": 4,
 "nbformat_minor": 2
}
